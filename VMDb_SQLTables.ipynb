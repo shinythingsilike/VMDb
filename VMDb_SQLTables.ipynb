{
 "cells": [
  {
   "cell_type": "markdown",
   "id": "7b4924b4-c503-4638-8183-60d17afe706b",
   "metadata": {},
   "source": [
    "# SQL Tables"
   ]
  },
  {
   "cell_type": "markdown",
   "id": "b75e6ea9-5f14-4552-9072-d4779a0f3ff5",
   "metadata": {},
   "source": [
    "_Below are all the rows appearing in the SQL Tables_"
   ]
  },
  {
   "cell_type": "markdown",
   "id": "f234f13a-68e5-4b45-b86f-b5b5f139f90d",
   "metadata": {
    "tags": []
   },
   "source": [
    "## critereon.csv"
   ]
  },
  {
   "cell_type": "markdown",
   "id": "05e152a0-1f50-4073-ab1c-bad8aa6e90e2",
   "metadata": {},
   "source": [
    "*Data origin:* https://www.kaggle.com/datasets/ikarus777/criterion-movies-collection"
   ]
  },
  {
   "cell_type": "markdown",
   "id": "3b637da2-55b0-4ea0-bc36-44daf76bcdfc",
   "metadata": {},
   "source": [
    "- id SERIAL PRIMARY KEY\n",
    "- title TEXT\n",
    "- description TEXT\n",
    "- country TEXT\n",
    "- year DOUBLE PRECISION\n",
    "- language TEXT,\n",
    "- image TEXT,\n",
    "- imdbid TEXT"
   ]
  },
  {
   "cell_type": "markdown",
   "id": "7fc5a204-7a12-444c-a001-adf4c08b7f97",
   "metadata": {},
   "source": [
    "## critereon_match.csv"
   ]
  },
  {
   "cell_type": "markdown",
   "id": "a19eaff0-70fe-4850-826d-1a81dd04b298",
   "metadata": {},
   "source": [
    "Matches `critereon` with `imdbid`"
   ]
  },
  {
   "cell_type": "markdown",
   "id": "65e6f7e6-9582-42b4-b727-c443cbb78526",
   "metadata": {
    "tags": []
   },
   "source": [
    "- id SERIAL PRIMARY KEY\n",
    "- title VARCHAR\n",
    "- imdbid INTEGER\n",
    "- imdbtitle VARCHAR\n",
    "- similarity INTEGER"
   ]
  },
  {
   "cell_type": "markdown",
   "id": "8041f789-b3e1-45c4-9a1c-d997445157a5",
   "metadata": {},
   "source": [
    "## fwl.csv"
   ]
  },
  {
   "cell_type": "markdown",
   "id": "3f495184-aed8-4fa9-a815-23f53d36f5ef",
   "metadata": {},
   "source": [
    "Raw watchlist entries"
   ]
  },
  {
   "cell_type": "markdown",
   "id": "28942ea1-d36e-42d9-bf73-42935ebc6513",
   "metadata": {},
   "source": [
    "- id SERIAL PRIMARY KEY\n",
    "- title VARCHAR"
   ]
  },
  {
   "cell_type": "markdown",
   "id": "d9280400-480c-42b9-a947-8481cf542a40",
   "metadata": {},
   "source": [
    "## genres.csv"
   ]
  },
  {
   "cell_type": "markdown",
   "id": "9be2a8b2-3082-4819-beb3-2ef57abbbda8",
   "metadata": {},
   "source": [
    "__Genre__ dimension table"
   ]
  },
  {
   "cell_type": "markdown",
   "id": "fb36f45c-cf8f-47f9-904e-fc7aa7c557f2",
   "metadata": {},
   "source": [
    "- genreid SERIAL PRIMARY KEY\n",
    "- genre VARCHAR"
   ]
  },
  {
   "cell_type": "markdown",
   "id": "9f6f4256-ab79-425b-a55f-a43e572b0cdf",
   "metadata": {},
   "source": [
    "## languages.csv"
   ]
  },
  {
   "cell_type": "markdown",
   "id": "a1562df6-7744-42cb-9e6f-621009e8b9b5",
   "metadata": {},
   "source": [
    "__Languages__ dimension table"
   ]
  },
  {
   "cell_type": "markdown",
   "id": "440e1cb5-0bd4-4280-ab01-e6733e42ac2f",
   "metadata": {},
   "source": [
    "- languageid SERIAL PRIMARY KEY \n",
    "- language VARCHAR"
   ]
  },
  {
   "cell_type": "markdown",
   "id": "4aeeae0b-a9a4-4292-920c-4ae658520141",
   "metadata": {},
   "source": [
    "## matches.csv"
   ]
  },
  {
   "cell_type": "markdown",
   "id": "4af59048-7657-4d93-99e9-4f8ca532de2c",
   "metadata": {},
   "source": [
    "Processed entries from __fwl__"
   ]
  },
  {
   "cell_type": "markdown",
   "id": "94043d12-a5cd-470a-9b58-e5712286e524",
   "metadata": {
    "tags": []
   },
   "source": [
    "- id SERIAL PRIMARY KEY\n",
    "- title VARCHAR\n",
    "- imdbid INTEGER\n",
    "- imdbtitle VARCHAR\n",
    "- imdbkind VARCHAR\n",
    "- similarity INTEGER"
   ]
  },
  {
   "cell_type": "markdown",
   "id": "828d77a6-9038-4bc7-bda3-a845cfecc5a5",
   "metadata": {},
   "source": [
    "## media_count.csv"
   ]
  },
  {
   "cell_type": "markdown",
   "id": "5077303e-a663-47a5-b182-b9715c51e47d",
   "metadata": {},
   "source": [
    "Frequency table of `imdbid` from `matches`"
   ]
  },
  {
   "cell_type": "markdown",
   "id": "dc5e2124-050f-4abd-a301-8757e31b6280",
   "metadata": {},
   "source": [
    "- imdbid INTEGER\n",
    "- watch_count INTEGER"
   ]
  },
  {
   "cell_type": "markdown",
   "id": "8b4c4626-5985-454a-a3a6-26ab4d542f04",
   "metadata": {},
   "source": [
    "## mismatches"
   ]
  },
  {
   "cell_type": "markdown",
   "id": "5f19a600-2de1-42a8-a15e-ac6fd1f988b3",
   "metadata": {},
   "source": [
    "Seperated values from processed __fwl__ table with value `similarity` lower than `99`"
   ]
  },
  {
   "cell_type": "markdown",
   "id": "18654ee3-7910-4616-8f50-027bff24e4cc",
   "metadata": {},
   "source": [
    "- id SERIAL PRIMARY KEY\n",
    "- title VARCHAR\n",
    "- imdbid INTEGER\n",
    "- imdbtitle VARCHAR\n",
    "- imdbkind VARCHAR\n",
    "- similarity INTEGER"
   ]
  },
  {
   "cell_type": "markdown",
   "id": "0579debd-5d59-4cba-9808-a4f00a68c43f",
   "metadata": {},
   "source": [
    "# movies_genre.csv"
   ]
  },
  {
   "cell_type": "markdown",
   "id": "53ec522a-0113-4fec-8bdd-f09ceb86cd33",
   "metadata": {},
   "source": [
    "Links `imdbid` with `genreid` from dimension table"
   ]
  },
  {
   "cell_type": "markdown",
   "id": "69c37663-63f8-4a46-84ca-d9da02e15e34",
   "metadata": {
    "tags": []
   },
   "source": [
    "- id SERIAL PRIMARY KEY\n",
    "- genreid INTEGER\n",
    "- imdbid INTEGER"
   ]
  },
  {
   "cell_type": "markdown",
   "id": "ac4b46c7-87b0-458b-957e-a68ae67592c7",
   "metadata": {},
   "source": [
    "## movie_languages.csv"
   ]
  },
  {
   "cell_type": "markdown",
   "id": "1847c4d2-2dad-4983-975d-4eadbfe7cccd",
   "metadata": {},
   "source": [
    "Links `imdbid` with `languageid`"
   ]
  },
  {
   "cell_type": "markdown",
   "id": "5a7e58a9-9679-42a2-b949-cf1b3d81304b",
   "metadata": {
    "tags": []
   },
   "source": [
    "- id SERIAL PRIMARY KEY\n",
    "- imdbid INTEGER\n",
    "- languageid INTEGER"
   ]
  },
  {
   "cell_type": "markdown",
   "id": "69716398-cce8-4044-b050-fa940d9417f7",
   "metadata": {},
   "source": [
    "## movies.csv"
   ]
  },
  {
   "cell_type": "markdown",
   "id": "d828a6c2-265a-40c0-9542-dd9d18deae2c",
   "metadata": {
    "tags": []
   },
   "source": [
    "Subset of `matches` where `imdbkind` is `movie`"
   ]
  },
  {
   "cell_type": "markdown",
   "id": "3719cf5c-13be-40e9-84d1-c3d156bb832a",
   "metadata": {},
   "source": [
    "- movieid PRIMARY KEY INTEGER\n",
    "- imdbid INTEGER\n",
    "- imdbtitle TEXT\n",
    "- releaseyear INTEGER\n",
    "- is_critereon INTEGER"
   ]
  },
  {
   "cell_type": "markdown",
   "id": "e445e71e-cc01-4624-b6fd-3302a433c751",
   "metadata": {},
   "source": [
    "## movies_genre.csv"
   ]
  },
  {
   "cell_type": "markdown",
   "id": "240a6434-0506-4dfa-ab67-b35abd2a29bd",
   "metadata": {},
   "source": [
    "Links `imdbid` with `genreid`"
   ]
  },
  {
   "cell_type": "markdown",
   "id": "5db7799e-beff-4b78-955c-4d3de7b63d21",
   "metadata": {},
   "source": [
    "- imdbid INTEGER\n",
    "- genreid INTEGER"
   ]
  },
  {
   "cell_type": "code",
   "execution_count": null,
   "id": "6ac75d0a-95e0-4123-87d1-b138e59867c9",
   "metadata": {},
   "outputs": [],
   "source": []
  },
  {
   "cell_type": "code",
   "execution_count": null,
   "id": "86bec381-5fd8-4524-bde7-b8b9d735dfed",
   "metadata": {},
   "outputs": [],
   "source": []
  }
 ],
 "metadata": {
  "kernelspec": {
   "display_name": "Python 3 (ipykernel)",
   "language": "python",
   "name": "python3"
  },
  "language_info": {
   "codemirror_mode": {
    "name": "ipython",
    "version": 3
   },
   "file_extension": ".py",
   "mimetype": "text/x-python",
   "name": "python",
   "nbconvert_exporter": "python",
   "pygments_lexer": "ipython3",
   "version": "3.10.4"
  }
 },
 "nbformat": 4,
 "nbformat_minor": 5
}
