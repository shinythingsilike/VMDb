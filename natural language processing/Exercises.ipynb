{
 "cells": [
  {
   "cell_type": "code",
   "execution_count": 13,
   "metadata": {},
   "outputs": [],
   "source": [
    "import re\n",
    "import pandas as pd"
   ]
  },
  {
   "cell_type": "code",
   "execution_count": 14,
   "metadata": {},
   "outputs": [],
   "source": [
    "mystring = \"Let's write RegEx!\"\n"
   ]
  },
  {
   "cell_type": "code",
   "execution_count": 15,
   "metadata": {},
   "outputs": [
    {
     "name": "stdout",
     "output_type": "stream",
     "text": [
      "['[.?!]']\n"
     ]
    }
   ],
   "source": [
    "# Write a pattern to match sentence endings: sentence_endings\n",
    "sentence_endings = r\"[.?!]\"\n",
    "\n",
    "# Split my_string on sentence endings and print the result\n",
    "print(re.split(mystring, sentence_endings))"
   ]
  },
  {
   "cell_type": "code",
   "execution_count": 24,
   "metadata": {},
   "outputs": [],
   "source": [
    "my_string = \"Let's write RegEx!  Won't that be fun?  I sure think so.  Can you find 4 sentences?  Or perhaps, all 19 words?\""
   ]
  },
  {
   "cell_type": "code",
   "execution_count": 25,
   "metadata": {},
   "outputs": [
    {
     "name": "stdout",
     "output_type": "stream",
     "text": [
      "[\"Let's write RegEx\", \"  Won't that be fun\", '  I sure think so', '  Can you find 4 sentences', '  Or perhaps, all 19 words', '']\n"
     ]
    }
   ],
   "source": [
    "# Write a pattern to match sentence endings: sentence_endings\n",
    "sentence_endings = r\"[.?!]\"\n",
    "\n",
    "# Split my_string on sentence endings and print the result\n",
    "print(re.split(sentence_endings, my_string))"
   ]
  },
  {
   "cell_type": "code",
   "execution_count": 26,
   "metadata": {},
   "outputs": [
    {
     "name": "stdout",
     "output_type": "stream",
     "text": [
      "['Let', 'RegEx', 'Won', 'Can', 'Or']\n"
     ]
    }
   ],
   "source": [
    "# Find all capitalized words in my_string and print the result\n",
    "capitalized_words = r\"[A-Z]\\w+\"\n",
    "print(re.findall(capitalized_words, my_string))"
   ]
  },
  {
   "cell_type": "code",
   "execution_count": 27,
   "metadata": {},
   "outputs": [
    {
     "name": "stdout",
     "output_type": "stream",
     "text": [
      "[\"Let's\", 'write', 'RegEx!', \"Won't\", 'that', 'be', 'fun?', 'I', 'sure', 'think', 'so.', 'Can', 'you', 'find', '4', 'sentences?', 'Or', 'perhaps,', 'all', '19', 'words?']\n"
     ]
    }
   ],
   "source": [
    "# Split my_string on spaces and print the result\n",
    "spaces = r\"\\s+\"\n",
    "print(re.split(spaces, my_string))"
   ]
  },
  {
   "cell_type": "code",
   "execution_count": 28,
   "metadata": {},
   "outputs": [
    {
     "name": "stdout",
     "output_type": "stream",
     "text": [
      "['4', '19']\n"
     ]
    }
   ],
   "source": [
    "# Find all digits in my_string and print the result\n",
    "digits = r\"\\d+\"\n",
    "print(re.findall(digits, my_string))"
   ]
  },
  {
   "cell_type": "code",
   "execution_count": 29,
   "metadata": {},
   "outputs": [
    {
     "data": {
      "text/html": [
       "<div>\n",
       "<style scoped>\n",
       "    .dataframe tbody tr th:only-of-type {\n",
       "        vertical-align: middle;\n",
       "    }\n",
       "\n",
       "    .dataframe tbody tr th {\n",
       "        vertical-align: top;\n",
       "    }\n",
       "\n",
       "    .dataframe thead th {\n",
       "        text-align: right;\n",
       "    }\n",
       "</style>\n",
       "<table border=\"1\" class=\"dataframe\">\n",
       "  <thead>\n",
       "    <tr style=\"text-align: right;\">\n",
       "      <th></th>\n",
       "      <th>requestNumber</th>\n",
       "      <th>ATIPODueDate</th>\n",
       "      <th>IEBDueDate</th>\n",
       "      <th>IIDDueDate</th>\n",
       "      <th>dateRec</th>\n",
       "      <th>dateDispatched</th>\n",
       "      <th>analyst</th>\n",
       "      <th>requestStatus</th>\n",
       "      <th>caseNotes</th>\n",
       "      <th>requestType</th>\n",
       "      <th>...</th>\n",
       "      <th>requestorDoB</th>\n",
       "      <th>dateClosed</th>\n",
       "      <th>responseType</th>\n",
       "      <th>DGO</th>\n",
       "      <th>NTC-TT</th>\n",
       "      <th>NTC-EDO</th>\n",
       "      <th>CID</th>\n",
       "      <th>ITPSD</th>\n",
       "      <th>ICAP</th>\n",
       "      <th>Comments</th>\n",
       "    </tr>\n",
       "  </thead>\n",
       "  <tbody>\n",
       "    <tr>\n",
       "      <th>0</th>\n",
       "      <td>A-2022-27760</td>\n",
       "      <td>2022-01-06</td>\n",
       "      <td>2022-01-05</td>\n",
       "      <td>2022-01-04</td>\n",
       "      <td>2022-12-20</td>\n",
       "      <td>2022-12-20</td>\n",
       "      <td>MDOUG</td>\n",
       "      <td>CLOSED</td>\n",
       "      <td>NaN</td>\n",
       "      <td>POTENTIAL REDIRECT</td>\n",
       "      <td>...</td>\n",
       "      <td>NaN</td>\n",
       "      <td>2022-12-21</td>\n",
       "      <td>nil</td>\n",
       "      <td>x</td>\n",
       "      <td>NaN</td>\n",
       "      <td>NaN</td>\n",
       "      <td>NaN</td>\n",
       "      <td>NaN</td>\n",
       "      <td>NaN</td>\n",
       "      <td>NaN</td>\n",
       "    </tr>\n",
       "    <tr>\n",
       "      <th>1</th>\n",
       "      <td>A-2022-27983</td>\n",
       "      <td>2022-01-06</td>\n",
       "      <td>2022-01-05</td>\n",
       "      <td>2022-01-04</td>\n",
       "      <td>2022-12-21</td>\n",
       "      <td>2022-12-21</td>\n",
       "      <td>SGOSS</td>\n",
       "      <td>CLOSED</td>\n",
       "      <td>NaN</td>\n",
       "      <td>POTENTIAL REDIRECT</td>\n",
       "      <td>...</td>\n",
       "      <td>NaN</td>\n",
       "      <td>2022-12-21</td>\n",
       "      <td>NOT APPLICABLE TO DIRECTORATE</td>\n",
       "      <td>x</td>\n",
       "      <td>NaN</td>\n",
       "      <td>NaN</td>\n",
       "      <td>NaN</td>\n",
       "      <td>NaN</td>\n",
       "      <td>NaN</td>\n",
       "      <td>NaN</td>\n",
       "    </tr>\n",
       "    <tr>\n",
       "      <th>2</th>\n",
       "      <td>P-2021-22892</td>\n",
       "      <td>2022-01-06</td>\n",
       "      <td>2022-01-05</td>\n",
       "      <td>2022-01-04</td>\n",
       "      <td>2021-12-21</td>\n",
       "      <td>2021-12-21</td>\n",
       "      <td>NONE</td>\n",
       "      <td>CLOSED</td>\n",
       "      <td>NaN</td>\n",
       "      <td>CLIENT - ALL RECORDS</td>\n",
       "      <td>...</td>\n",
       "      <td>NaN</td>\n",
       "      <td>2022-01-11</td>\n",
       "      <td>nil</td>\n",
       "      <td>x</td>\n",
       "      <td>nil</td>\n",
       "      <td>nil</td>\n",
       "      <td>nil</td>\n",
       "      <td>nil</td>\n",
       "      <td>x</td>\n",
       "      <td>NaN</td>\n",
       "    </tr>\n",
       "    <tr>\n",
       "      <th>3</th>\n",
       "      <td>P-2021-22978</td>\n",
       "      <td>2022-01-06</td>\n",
       "      <td>2022-01-05</td>\n",
       "      <td>2022-01-04</td>\n",
       "      <td>2021-12-21</td>\n",
       "      <td>2021-12-21</td>\n",
       "      <td>NONE</td>\n",
       "      <td>CLOSED</td>\n",
       "      <td>NaN</td>\n",
       "      <td>CLIENT - ALL RECORDS</td>\n",
       "      <td>...</td>\n",
       "      <td>NaN</td>\n",
       "      <td>2022-01-11</td>\n",
       "      <td>nil</td>\n",
       "      <td>x</td>\n",
       "      <td>nil</td>\n",
       "      <td>nil</td>\n",
       "      <td>nil</td>\n",
       "      <td>nil</td>\n",
       "      <td>x</td>\n",
       "      <td>NaN</td>\n",
       "    </tr>\n",
       "    <tr>\n",
       "      <th>4</th>\n",
       "      <td>P-2021-23102</td>\n",
       "      <td>2022-01-06</td>\n",
       "      <td>2022-01-05</td>\n",
       "      <td>2022-01-04</td>\n",
       "      <td>2021-12-21</td>\n",
       "      <td>2021-12-21</td>\n",
       "      <td>NONE</td>\n",
       "      <td>CLOSED</td>\n",
       "      <td>NaN</td>\n",
       "      <td>CLIENT - ALL RECORDS</td>\n",
       "      <td>...</td>\n",
       "      <td>NaN</td>\n",
       "      <td>2022-01-11</td>\n",
       "      <td>nil</td>\n",
       "      <td>x</td>\n",
       "      <td>nil</td>\n",
       "      <td>nil</td>\n",
       "      <td>nil</td>\n",
       "      <td>nil</td>\n",
       "      <td>x</td>\n",
       "      <td>NaN</td>\n",
       "    </tr>\n",
       "  </tbody>\n",
       "</table>\n",
       "<p>5 rows × 23 columns</p>\n",
       "</div>"
      ],
      "text/plain": [
       "  requestNumber ATIPODueDate IEBDueDate IIDDueDate    dateRec dateDispatched  \\\n",
       "0  A-2022-27760   2022-01-06 2022-01-05 2022-01-04 2022-12-20     2022-12-20   \n",
       "1  A-2022-27983   2022-01-06 2022-01-05 2022-01-04 2022-12-21     2022-12-21   \n",
       "2  P-2021-22892   2022-01-06 2022-01-05 2022-01-04 2021-12-21     2021-12-21   \n",
       "3  P-2021-22978   2022-01-06 2022-01-05 2022-01-04 2021-12-21     2021-12-21   \n",
       "4  P-2021-23102   2022-01-06 2022-01-05 2022-01-04 2021-12-21     2021-12-21   \n",
       "\n",
       "  analyst requestStatus caseNotes           requestType   ...    requestorDoB  \\\n",
       "0   MDOUG        CLOSED       NaN    POTENTIAL REDIRECT   ...             NaN   \n",
       "1   SGOSS        CLOSED       NaN    POTENTIAL REDIRECT   ...             NaN   \n",
       "2    NONE        CLOSED       NaN  CLIENT - ALL RECORDS   ...             NaN   \n",
       "3    NONE        CLOSED       NaN  CLIENT - ALL RECORDS   ...             NaN   \n",
       "4    NONE        CLOSED       NaN  CLIENT - ALL RECORDS   ...             NaN   \n",
       "\n",
       "  dateClosed                   responseType DGO NTC-TT NTC-EDO  CID ITPSD  \\\n",
       "0 2022-12-21                            nil   x    NaN     NaN  NaN   NaN   \n",
       "1 2022-12-21  NOT APPLICABLE TO DIRECTORATE   x    NaN     NaN  NaN   NaN   \n",
       "2 2022-01-11                            nil   x    nil     nil  nil   nil   \n",
       "3 2022-01-11                            nil   x    nil     nil  nil   nil   \n",
       "4 2022-01-11                            nil   x    nil     nil  nil   nil   \n",
       "\n",
       "  ICAP Comments  \n",
       "0  NaN      NaN  \n",
       "1  NaN      NaN  \n",
       "2    x      NaN  \n",
       "3    x      NaN  \n",
       "4    x      NaN  \n",
       "\n",
       "[5 rows x 23 columns]"
      ]
     },
     "execution_count": 29,
     "metadata": {},
     "output_type": "execute_result"
    }
   ],
   "source": [
    "mydf = pd.read_excel('datasets\\IID_ATIP_TRACKER_2023.xlsx')\n",
    "mydf.head()"
   ]
  },
  {
   "cell_type": "code",
   "execution_count": 32,
   "metadata": {},
   "outputs": [],
   "source": [
    "teststring = \"Passport No. 0A046319. My name is THAHER, Fatina DOB: 03-06-1973  UCI: 11-5742-5241  I landed with my family in Canada on Aug 15, 2010. I have been working and living in Canada since 2013. I had a permanent resident status till 2022. I was granted the Canadian Citizenship on Jul 2022. I am contacting you today regarding boarders related issue. As I said, I landed in Canada as an immigrant on Aug 15, 2010. I stayed for one month then I left the country since I was living and working in Dubai at the time. My plan was to stay in Dubai for 3 more years to save money for my life expenses in Canada after I move there. I visited Canada again in 2011 and 2012 to do my pharmacy practice examinations. In one of my visits likely in 2012, the boarders officer asked me why I am not staying in Canada as of yet? I told her because I am living with my family in Dubai and that I am here to do my pharmacy practice exams. My name was flagged for some reason at that time. Each time I come back to Canada I will ALWAYS be questioned by the officers The last incident was on Sat Jan 21, 2023. I asked the officer if the flag can be removed? he told me that he is not sure he eventually promised to talk to his boss to fix this. Can you please provide me with the reason I always been held by in the airport for? Also, Can you please bring this issue up to the boarders agency to get my name cleared?\""
   ]
  },
  {
   "cell_type": "code",
   "execution_count": 33,
   "metadata": {},
   "outputs": [
    {
     "data": {
      "text/plain": [
       "['Passport',\n",
       " 'No',\n",
       " 'A046319',\n",
       " 'My',\n",
       " 'THAHER',\n",
       " 'Fatina',\n",
       " 'DOB',\n",
       " 'UCI',\n",
       " 'Canada',\n",
       " 'Aug',\n",
       " 'Canada',\n",
       " 'Canadian',\n",
       " 'Citizenship',\n",
       " 'Jul',\n",
       " 'As',\n",
       " 'Canada',\n",
       " 'Aug',\n",
       " 'Dubai',\n",
       " 'My',\n",
       " 'Dubai',\n",
       " 'Canada',\n",
       " 'Canada',\n",
       " 'In',\n",
       " 'Canada',\n",
       " 'Dubai',\n",
       " 'My',\n",
       " 'Each',\n",
       " 'Canada',\n",
       " 'ALWAYS',\n",
       " 'The',\n",
       " 'Sat',\n",
       " 'Jan',\n",
       " 'Can',\n",
       " 'Also',\n",
       " 'Can']"
      ]
     },
     "execution_count": 33,
     "metadata": {},
     "output_type": "execute_result"
    }
   ],
   "source": [
    "allcaps = r\"[A-Z]\\w+\"\n",
    "re.findall(allcaps, teststring)"
   ]
  },
  {
   "cell_type": "code",
   "execution_count": 34,
   "metadata": {},
   "outputs": [
    {
     "data": {
      "text/plain": [
       "['0',\n",
       " '046319',\n",
       " '03',\n",
       " '06',\n",
       " '1973',\n",
       " '11',\n",
       " '5742',\n",
       " '5241',\n",
       " '15',\n",
       " '2010',\n",
       " '2013',\n",
       " '2022',\n",
       " '2022',\n",
       " '15',\n",
       " '2010',\n",
       " '3',\n",
       " '2011',\n",
       " '2012',\n",
       " '2012',\n",
       " '21',\n",
       " '2023']"
      ]
     },
     "execution_count": 34,
     "metadata": {},
     "output_type": "execute_result"
    }
   ],
   "source": [
    "digits = r\"\\d+\"\n",
    "re.findall(digits, teststring)"
   ]
  },
  {
   "cell_type": "code",
   "execution_count": 36,
   "metadata": {},
   "outputs": [],
   "source": [
    "scene_one = \"\"\"SCENE 1: [wind] [clop clop clop] \n",
    "KING ARTHUR: Whoa there!  [clop clop clop] \n",
    "SOLDIER #1: Halt!  Who goes there?\n",
    "ARTHUR: It is I, Arthur, son of Uther Pendragon, from the castle of Camelot.  King of the Britons, defeator of the Saxons, sovereign of all England!\n",
    "SOLDIER #1: Pull the other one!\n",
    "ARTHUR: I am, ...  and this is my trusty servant Patsy.  We have ridden the length and breadth of the land in search of knights who will join me in my court at Camelot.  I must speak with your lord and master.\n",
    "SOLDIER #1: What?  Ridden on a horse?\n",
    "ARTHUR: Yes!\n",
    "SOLDIER #1: You're using coconuts!\n",
    "ARTHUR: What?\n",
    "SOLDIER #1: You've got two empty halves of coconut and you're bangin' 'em together.\n",
    "ARTHUR: So?  We have ridden since the snows of winter covered this land, through the kingdom of Mercea, through--\n",
    "SOLDIER #1: Where'd you get the coconuts?\n",
    "ARTHUR: We found them.\n",
    "SOLDIER #1: Found them?  In Mercea?  The coconut's tropical!\n",
    "ARTHUR: What do you mean?\n",
    "SOLDIER #1: Well, this is a temperate zone.\n",
    "ARTHUR: The swallow may fly south with the sun or the house martin or the plover may seek warmer climes in winter, yet these are not strangers to our land?\n",
    "SOLDIER #1: Are you suggesting coconuts migrate?\n",
    "ARTHUR: Not at all.  They could be carried.\n",
    "SOLDIER #1: What?  A swallow carrying a coconut?\n",
    "ARTHUR: It could grip it by the husk!\n",
    "SOLDIER #1: It's not a question of where he grips it!  It's a simple question of weight ratios!  A five ounce bird could not carry a one pound coconut.\n",
    "ARTHUR: Well, it doesn't matter.  Will you go and tell your master that Arthur from the Court of Camelot is here.\n",
    "SOLDIER #1: Listen.  In order to maintain air-speed velocity, a swallow needs to beat its wings forty-three times every second, right?\n",
    "ARTHUR: Please!\n",
    "SOLDIER #1: Am I right?\n",
    "ARTHUR: I'm not interested!\n",
    "SOLDIER #2: It could be carried by an African swallow!\n",
    "SOLDIER #1: Oh, yeah, an African swallow maybe, but not a European swallow.  That's my point.\n",
    "SOLDIER #2: Oh, yeah, I agree with that.\n",
    "ARTHUR: Will you ask your master if he wants to join my court at Camelot?!\n",
    "SOLDIER #1: But then of course a-- African swallows are non-migratory.\n",
    "SOLDIER #2: Oh, yeah...\n",
    "SOLDIER #1: So they couldn't bring a coconut back anyway...  [clop clop clop] \n",
    "SOLDIER #2: Wait a minute!  Supposing two swallows carried it together?\n",
    "SOLDIER #1: No, they'd have to have it on a line.\n",
    "SOLDIER #2: Well, simple!  They'd just use a strand of creeper!\n",
    "SOLDIER #1: What, held under the dorsal guiding feathers?\n",
    "SOLDIER #2: Well, why not?\"\"\""
   ]
  },
  {
   "cell_type": "code",
   "execution_count": 40,
   "metadata": {},
   "outputs": [
    {
     "data": {
      "text/plain": [
       "588"
      ]
     },
     "execution_count": 40,
     "metadata": {},
     "output_type": "execute_result"
    }
   ],
   "source": [
    "match = re.search(\"coconuts\",scene_one)\n",
    "match.start()\n",
    "match.end()"
   ]
  },
  {
   "cell_type": "code",
   "execution_count": 41,
   "metadata": {},
   "outputs": [
    {
     "data": {
      "text/plain": [
       "<_sre.SRE_Match object; span=(9, 32), match='[wind] [clop clop clop]'>"
      ]
     },
     "execution_count": 41,
     "metadata": {},
     "output_type": "execute_result"
    }
   ],
   "source": [
    "pattern1 = r\"\\[.*]\"\n",
    "re.search(pattern1, scene_one)"
   ]
  },
  {
   "cell_type": "code",
   "execution_count": 42,
   "metadata": {},
   "outputs": [
    {
     "data": {
      "text/plain": [
       "'Passport No. 0A046319. My name is THAHER, Fatina DOB: 03-06-1973  UCI: 11-5742-5241  I landed with my family in Canada on Aug 15, 2010. I have been working and living in Canada since 2013. I had a permanent resident status till 2022. I was granted the Canadian Citizenship on Jul 2022. I am contacting you today regarding boarders related issue. As I said, I landed in Canada as an immigrant on Aug 15, 2010. I stayed for one month then I left the country since I was living and working in Dubai at the time. My plan was to stay in Dubai for 3 more years to save money for my life expenses in Canada after I move there. I visited Canada again in 2011 and 2012 to do my pharmacy practice examinations. In one of my visits likely in 2012, the boarders officer asked me why I am not staying in Canada as of yet? I told her because I am living with my family in Dubai and that I am here to do my pharmacy practice exams. My name was flagged for some reason at that time. Each time I come back to Canada I will ALWAYS be questioned by the officers The last incident was on Sat Jan 21, 2023. I asked the officer if the flag can be removed? he told me that he is not sure he eventually promised to talk to his boss to fix this. Can you please provide me with the reason I always been held by in the airport for? Also, Can you please bring this issue up to the boarders agency to get my name cleared?'"
      ]
     },
     "execution_count": 42,
     "metadata": {},
     "output_type": "execute_result"
    }
   ],
   "source": [
    "teststring"
   ]
  },
  {
   "cell_type": "code",
   "execution_count": 48,
   "metadata": {},
   "outputs": [
    {
     "data": {
      "text/plain": [
       "['DOB']"
      ]
     },
     "execution_count": 48,
     "metadata": {},
     "output_type": "execute_result"
    }
   ],
   "source": [
    "dob= r\"DOB\"\n",
    "match = re.findall(dob,teststring)\n",
    "match"
   ]
  },
  {
   "cell_type": "code",
   "execution_count": null,
   "metadata": {},
   "outputs": [],
   "source": []
  },
  {
   "cell_type": "code",
   "execution_count": null,
   "metadata": {},
   "outputs": [],
   "source": []
  }
 ],
 "metadata": {
  "kernelspec": {
   "display_name": "Python 3",
   "language": "python",
   "name": "python3"
  },
  "language_info": {
   "codemirror_mode": {
    "name": "ipython",
    "version": 3
   },
   "file_extension": ".py",
   "mimetype": "text/x-python",
   "name": "python",
   "nbconvert_exporter": "python",
   "pygments_lexer": "ipython3",
   "version": "3.6.4"
  }
 },
 "nbformat": 4,
 "nbformat_minor": 2
}
